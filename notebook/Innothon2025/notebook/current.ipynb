{
 "cells": [
  {
   "cell_type": "code",
   "execution_count": 1,
   "metadata": {},
   "outputs": [],
   "source": [
    "import pandas as pd"
   ]
  },
  {
   "cell_type": "code",
   "execution_count": 3,
   "metadata": {},
   "outputs": [
    {
     "name": "stderr",
     "output_type": "stream",
     "text": [
      "<>:1: SyntaxWarning: invalid escape sequence '\\I'\n",
      "<>:1: SyntaxWarning: invalid escape sequence '\\I'\n",
      "C:\\Users\\pavan sai\\AppData\\Local\\Temp\\ipykernel_14976\\3232458216.py:1: SyntaxWarning: invalid escape sequence '\\I'\n",
      "  df=pd.read_excel(\"data\\IdeaFusion-registrations_2025-03-19.xlsx\")\n"
     ]
    }
   ],
   "source": [
    "df=pd.read_excel(\"data\\IdeaFusion-registrations_2025-03-19.xlsx\")"
   ]
  },
  {
   "cell_type": "code",
   "execution_count": 4,
   "metadata": {},
   "outputs": [
    {
     "data": {
      "text/html": [
       "<div>\n",
       "<style scoped>\n",
       "    .dataframe tbody tr th:only-of-type {\n",
       "        vertical-align: middle;\n",
       "    }\n",
       "\n",
       "    .dataframe tbody tr th {\n",
       "        vertical-align: top;\n",
       "    }\n",
       "\n",
       "    .dataframe thead th {\n",
       "        text-align: right;\n",
       "    }\n",
       "</style>\n",
       "<table border=\"1\" class=\"dataframe\">\n",
       "  <thead>\n",
       "    <tr style=\"text-align: right;\">\n",
       "      <th></th>\n",
       "      <th>Team ID</th>\n",
       "      <th>Registration ID</th>\n",
       "      <th>Event</th>\n",
       "      <th>Team Lead</th>\n",
       "      <th>Email</th>\n",
       "      <th>Phone</th>\n",
       "      <th>College</th>\n",
       "      <th>Department</th>\n",
       "      <th>Year</th>\n",
       "      <th>Team Size</th>\n",
       "      <th>Amount</th>\n",
       "      <th>Status</th>\n",
       "      <th>Registration Date</th>\n",
       "      <th>Team Members</th>\n",
       "      <th>Team Members Emails</th>\n",
       "      <th>Team Members Phones</th>\n",
       "    </tr>\n",
       "  </thead>\n",
       "  <tbody>\n",
       "    <tr>\n",
       "      <th>0</th>\n",
       "      <td>IN25-257</td>\n",
       "      <td>f98601c8-8505-4777-9f2c-07f7ff5767b4</td>\n",
       "      <td>IdeaFusion</td>\n",
       "      <td>Dhakshinesh R</td>\n",
       "      <td>230935.cs@rmkec.ac.in</td>\n",
       "      <td>9884981887</td>\n",
       "      <td>R.M.K Engineering College</td>\n",
       "      <td>Computer Science and Engineering</td>\n",
       "      <td>2</td>\n",
       "      <td>3</td>\n",
       "      <td>500</td>\n",
       "      <td>PENDING</td>\n",
       "      <td>19/03/2025, 09:48 pm</td>\n",
       "      <td>Dharshan M, AKASH S</td>\n",
       "      <td>230168.cs@rmkec.ac.in, 230107.cs@rmkec.ac.in</td>\n",
       "      <td>8807337327, 6380169397</td>\n",
       "    </tr>\n",
       "  </tbody>\n",
       "</table>\n",
       "</div>"
      ],
      "text/plain": [
       "    Team ID                       Registration ID       Event      Team Lead  \\\n",
       "0  IN25-257  f98601c8-8505-4777-9f2c-07f7ff5767b4  IdeaFusion  Dhakshinesh R   \n",
       "\n",
       "                   Email       Phone                    College  \\\n",
       "0  230935.cs@rmkec.ac.in  9884981887  R.M.K Engineering College   \n",
       "\n",
       "                         Department  Year  Team Size  Amount   Status  \\\n",
       "0  Computer Science and Engineering     2          3     500  PENDING   \n",
       "\n",
       "      Registration Date         Team Members  \\\n",
       "0  19/03/2025, 09:48 pm  Dharshan M, AKASH S   \n",
       "\n",
       "                            Team Members Emails     Team Members Phones  \n",
       "0  230168.cs@rmkec.ac.in, 230107.cs@rmkec.ac.in  8807337327, 6380169397  "
      ]
     },
     "execution_count": 4,
     "metadata": {},
     "output_type": "execute_result"
    }
   ],
   "source": [
    "df.head(1)"
   ]
  },
  {
   "cell_type": "code",
   "execution_count": 5,
   "metadata": {},
   "outputs": [
    {
     "data": {
      "text/plain": [
       "Index(['Team ID', 'Registration ID', 'Event', 'Team Lead', 'Email', 'Phone',\n",
       "       'College', 'Department', 'Year', 'Team Size', 'Amount', 'Status',\n",
       "       'Registration Date', 'Team Members', 'Team Members Emails',\n",
       "       'Team Members Phones'],\n",
       "      dtype='object')"
      ]
     },
     "execution_count": 5,
     "metadata": {},
     "output_type": "execute_result"
    }
   ],
   "source": [
    "df.columns"
   ]
  },
  {
   "cell_type": "code",
   "execution_count": 6,
   "metadata": {},
   "outputs": [
    {
     "data": {
      "text/plain": [
       "61"
      ]
     },
     "execution_count": 6,
     "metadata": {},
     "output_type": "execute_result"
    }
   ],
   "source": [
    "df['Team ID'].value_counts().sum()"
   ]
  },
  {
   "cell_type": "code",
   "execution_count": 7,
   "metadata": {},
   "outputs": [
    {
     "data": {
      "text/plain": [
       "Index(['Team ID', 'Registration ID', 'Event', 'Team Lead', 'Email', 'Phone',\n",
       "       'College', 'Department', 'Year', 'Team Size', 'Amount', 'Status',\n",
       "       'Registration Date', 'Team Members', 'Team Members Emails',\n",
       "       'Team Members Phones'],\n",
       "      dtype='object')"
      ]
     },
     "execution_count": 7,
     "metadata": {},
     "output_type": "execute_result"
    }
   ],
   "source": [
    "df.columns"
   ]
  },
  {
   "cell_type": "code",
   "execution_count": 8,
   "metadata": {},
   "outputs": [
    {
     "data": {
      "text/plain": [
       "College\n",
       "Hindustan institute of technology and science                   8\n",
       "Hindustan Institute of Technology and Science                   6\n",
       "Manakula vinayagar institute of technology                      5\n",
       "Rajalakshmi Engineering College                                 2\n",
       "Hindustan Institute of technology and science                   2\n",
       "SRI KRISHNA COLLEGE OF TECHNOLOGY                               2\n",
       "V.S.B.ENGINEERING COLLEGE,KARUR                                 1\n",
       "St. JOSEPHS INSTITUTE OF TECHNOLOGY                             1\n",
       "St. Joseph's institute of technology                            1\n",
       "Hits                                                            1\n",
       "Hindustan institute of science and technology                   1\n",
       "Hindustan institute of technology and scie                      1\n",
       "V.S.B.ENGINEERING COLLEGE, KARUR                                1\n",
       "R.M.K Engineering College                                       1\n",
       "Hindustan university                                            1\n",
       "V.S.B.Engineering College                                       1\n",
       "SRM Institute of Science and Technology, Tiruchirapalli         1\n",
       "SRM Institue Of Science And Technology                          1\n",
       "Hindustan university of technology and science                  1\n",
       "Hindustan University                                            1\n",
       "Hindustan institute of technology and science                   1\n",
       "Hindusthan institute of technology and sciences                 1\n",
       "V.S.B Engineering college                                       1\n",
       "Hindustan Institute of Technology and science                   1\n",
       "RMK ENGINEERING COLLEGE                                         1\n",
       "Sri Sivasubramaniya Nadar College of Engineering                1\n",
       "Rajalakshmi engineering college                                 1\n",
       "Rajalakshmi Engineering College                                 1\n",
       "Sri krishna college of engineering and technology,coimbatore    1\n",
       "Amrita College of Engineering and Technology                    1\n",
       "SRM Easwari engineering college                                 1\n",
       "SRMIST                                                          1\n",
       "Francis Xavier Engineering College Tirunelveli                  1\n",
       "HINDUSTAN INSTITUDE OF TECHNOLOGY AND SCIENCE                   1\n",
       "IFET college of engineering                                     1\n",
       "St.Joseph's college of engineering                              1\n",
       "SRM Institute of Science and Technology                         1\n",
       "Manakula Vinayagar institute of technology                      1\n",
       "Erode Sengunthar Engineering College, Erode                     1\n",
       "Ifet college of engineering                                     1\n",
       "IFET COLLEGE OF ENGINEERING                                     1\n",
       "22112028@student.hindustanuniv.ac.in                            1\n",
       "Name: count, dtype: int64"
      ]
     },
     "execution_count": 8,
     "metadata": {},
     "output_type": "execute_result"
    }
   ],
   "source": [
    "df.College.value_counts()"
   ]
  },
  {
   "cell_type": "code",
   "execution_count": 9,
   "metadata": {},
   "outputs": [
    {
     "name": "stderr",
     "output_type": "stream",
     "text": [
      "c:\\Users\\pavan sai\\Desktop\\mlprojects\\venv\\Lib\\site-packages\\fuzzywuzzy\\fuzz.py:11: UserWarning: Using slow pure-python SequenceMatcher. Install python-Levenshtein to remove this warning\n",
      "  warnings.warn('Using slow pure-python SequenceMatcher. Install python-Levenshtein to remove this warning')\n"
     ]
    },
    {
     "name": "stdout",
     "output_type": "stream",
     "text": [
      "     Team ID                       Registration ID       Event  \\\n",
      "0   IN25-257  f98601c8-8505-4777-9f2c-07f7ff5767b4  IdeaFusion   \n",
      "1   IN25-254  a3dff9eb-3a25-4a46-9eb9-811bb48317f8  IdeaFusion   \n",
      "2   IN25-253  c66e5c8f-eb54-4cb9-84d2-dd2196ec49d8  IdeaFusion   \n",
      "3   IN25-252  56bc3d95-2f6f-4493-88a9-6f1be5d03499  IdeaFusion   \n",
      "4   IN25-251  96dd83f0-b476-4eea-aa32-8d643f63de82  IdeaFusion   \n",
      "..       ...                                   ...         ...   \n",
      "56  IN25-015  004e86fd-a360-4cbd-af39-2b20f7b4d5bb  IdeaFusion   \n",
      "57  IN25-013  0f5d045d-2daf-4f0e-97db-881cfd0939ad  IdeaFusion   \n",
      "58  IN25-012  edecb425-61f3-4bff-a156-653064043b55  IdeaFusion   \n",
      "59  IN25-007  6f54cca6-afc6-40ba-93de-2bcdea11a97a  IdeaFusion   \n",
      "60  IN25-003  ace227e1-5a17-4733-a1d9-cea74b65a2f7  IdeaFusion   \n",
      "\n",
      "               Team Lead                                    Email       Phone  \\\n",
      "0          Dhakshinesh R                    230935.cs@rmkec.ac.in  9884981887   \n",
      "1         AJAY KUMAR G R                   2301056.cs@rmkec.ac.in  9566231999   \n",
      "2             Prathika V             221301033@rajalakshmi.edu.in  7092714415   \n",
      "3           S yogeswari              221301060@rajalakshmi.edu.in  9342699335   \n",
      "4   Pradyumna Sagar T.               221301031@rajalakshmi.edu.in  8122090023   \n",
      "..                   ...                                      ...         ...   \n",
      "56              SWETHA P  23cu0310413@student.hindustanuniv.ac.in  7418001137   \n",
      "57       Gandla Jyosthna                 jyosthnagandla@gmail.com  9391475927   \n",
      "58      Srirama Priyan K               sriramapriyank12@gmail.com  8946042981   \n",
      "59      Japhlet Sandra J  23CU0310123@student.hindustanuniv.ac.in  9962556041   \n",
      "60        Avinash Lingam               avinashlingam11@gmail.come  8122382750   \n",
      "\n",
      "                                 College                        Department  \\\n",
      "0             R.M.K Engineering College   Computer Science and Engineering   \n",
      "1             R.M.K Engineering College                             BE CSE   \n",
      "2        Rajalakshmi Engineering College           B.Tech Food Technology    \n",
      "3        Rajalakshmi Engineering College                  Food technology    \n",
      "4        Rajalakshmi Engineering College                  Food Technology    \n",
      "..                                   ...                               ...   \n",
      "56             Hindustan University/HITS                               CSE   \n",
      "57           IFET COLLEGE OF ENGINEERING                        Btech cse    \n",
      "58  22112028@student.hindustanuniv.ac.in                        B.TECH CSE   \n",
      "59             Hindustan University/HITS                        B.Tech CSE   \n",
      "60             Hindustan University/HITS                        BTech CSE    \n",
      "\n",
      "    Year  Team Size  Amount    Status     Registration Date  \\\n",
      "0      2          3     500   PENDING  19/03/2025, 09:48 pm   \n",
      "1      2          3     500   PENDING  19/03/2025, 08:27 pm   \n",
      "2      3          2     500   PENDING  19/03/2025, 07:03 pm   \n",
      "3      3          2     500   PENDING  19/03/2025, 06:44 pm   \n",
      "4      3          2     500   PENDING  19/03/2025, 06:34 pm   \n",
      "..   ...        ...     ...       ...                   ...   \n",
      "56     2          3     500  APPROVED  21/02/2025, 12:10 pm   \n",
      "57     2          3     500  APPROVED  21/02/2025, 08:58 am   \n",
      "58     3          3     500  APPROVED  20/02/2025, 07:08 pm   \n",
      "59     2          3     500  APPROVED  20/02/2025, 10:20 am   \n",
      "60     2          3     500  APPROVED  19/02/2025, 01:36 pm   \n",
      "\n",
      "                           Team Members  \\\n",
      "0                   Dharshan M, AKASH S   \n",
      "1             BARATH K, AHAMED FARIDH S   \n",
      "2                       Priyadharsan S    \n",
      "3                            M babisha    \n",
      "4                              Balaji A   \n",
      "..                                  ...   \n",
      "56                SARUMATHI E, VIDHYA S   \n",
      "57  Arun Kumar , Sudharsan Sathyaprabhu   \n",
      "58           Ranjani S, Linkesh Kumar E   \n",
      "59       Raja Meenakshi G, Roseanne Anu   \n",
      "60        Suresh Thevar, Bharath Raj T    \n",
      "\n",
      "                                  Team Members Emails     Team Members Phones  \n",
      "0        230168.cs@rmkec.ac.in, 230107.cs@rmkec.ac.in  8807337327, 6380169397  \n",
      "1        230163.cs@rmkec.ac.in, 230025.cs@rmkec.ac.in  9840460771, 9940371115  \n",
      "2                        221301035@rajalakshmi.edu.in              9442686080  \n",
      "3                        221301009@rajalakshmi.edu.in              8248091079  \n",
      "4                        221301010@rajalakshmi.edu.in              9655055885  \n",
      "..                                                ...                     ...  \n",
      "56  23cu0310392@student.hindustanuniv.ac.in, 23cu0...  9342332359, 8667761038  \n",
      "57   arkumararun81@gmail.com, spsudharsan99@gmail.com  9043909438, 7418908570  \n",
      "58  ranjanishan17@gmail.com, linkeshkumar14@gmail.com  9940342061, 9342447645  \n",
      "59  23CU0310250@student.hindustanuniv.ac.in, 23CU0...  8925390112, 8248173653  \n",
      "60  psureshthevar27@gmail.com, mltbharathraj@gmail...  8850468834, 9841802412  \n",
      "\n",
      "[61 rows x 16 columns]\n"
     ]
    }
   ],
   "source": [
    "from fuzzywuzzy import process\n",
    "\n",
    "standard_colleges = [\"Hindustan University/HITS\",\"Rajalakshmi Engineering College\",\"R.M.K Engineering College \",\"V.S.B.ENGINEERING COLLEGE,KARUR\", \"Sri Sivasubramaniya Nadar\",\"IFET COLLEGE OF ENGINEERING\",\"SRI KRISHNA COLLEGE OF TECHNOLOGY\",\"Manakula Vinayagar Institute of Technology\",\"Erode Sengunthar Engineering College, Erode \",\"St. Joseph's institute of technology\",\"SRMIST-SRM Institute of Science and Technology\"]\n",
    "\n",
    "# Function to match each entry to the closest name\n",
    "def match_college(name):\n",
    "    match, score = process.extractOne(name, standard_colleges)\n",
    "    return match if score > 80 else name  # Adjust threshold as needed\n",
    "\n",
    "df[\"College\"] = df[\"College\"].apply(match_college)\n",
    "\n",
    "print(df)"
   ]
  },
  {
   "cell_type": "code",
   "execution_count": 10,
   "metadata": {},
   "outputs": [
    {
     "data": {
      "text/plain": [
       "College\n",
       "Hindustan University/HITS                         25\n",
       "Manakula Vinayagar Institute of Technology         6\n",
       "R.M.K Engineering College                          5\n",
       "Rajalakshmi Engineering College                    5\n",
       "IFET COLLEGE OF ENGINEERING                        5\n",
       "SRMIST-SRM Institute of Science and Technology     4\n",
       "V.S.B.ENGINEERING COLLEGE,KARUR                    4\n",
       "St. Joseph's institute of technology               2\n",
       "SRI KRISHNA COLLEGE OF TECHNOLOGY                  2\n",
       "Erode Sengunthar Engineering College, Erode        1\n",
       "Sri Sivasubramaniya Nadar                          1\n",
       "22112028@student.hindustanuniv.ac.in               1\n",
       "Name: count, dtype: int64"
      ]
     },
     "execution_count": 10,
     "metadata": {},
     "output_type": "execute_result"
    }
   ],
   "source": [
    "df.College.value_counts()"
   ]
  },
  {
   "cell_type": "code",
   "execution_count": 11,
   "metadata": {},
   "outputs": [
    {
     "data": {
      "text/plain": [
       "61"
      ]
     },
     "execution_count": 11,
     "metadata": {},
     "output_type": "execute_result"
    }
   ],
   "source": [
    "df.College.value_counts().sum()"
   ]
  },
  {
   "cell_type": "code",
   "execution_count": 12,
   "metadata": {},
   "outputs": [],
   "source": [
    "df.loc[df[\"College\"] == \"22112028@student.hindustanuniv.ac.in\", \"College\"] = \"Hindustan University/HITS\""
   ]
  },
  {
   "cell_type": "code",
   "execution_count": 13,
   "metadata": {},
   "outputs": [
    {
     "data": {
      "text/plain": [
       "College\n",
       "Hindustan University/HITS                         26\n",
       "Manakula Vinayagar Institute of Technology         6\n",
       "R.M.K Engineering College                          5\n",
       "Rajalakshmi Engineering College                    5\n",
       "IFET COLLEGE OF ENGINEERING                        5\n",
       "SRMIST-SRM Institute of Science and Technology     4\n",
       "V.S.B.ENGINEERING COLLEGE,KARUR                    4\n",
       "St. Joseph's institute of technology               2\n",
       "SRI KRISHNA COLLEGE OF TECHNOLOGY                  2\n",
       "Erode Sengunthar Engineering College, Erode        1\n",
       "Sri Sivasubramaniya Nadar                          1\n",
       "Name: count, dtype: int64"
      ]
     },
     "execution_count": 13,
     "metadata": {},
     "output_type": "execute_result"
    }
   ],
   "source": [
    "df.College.value_counts()"
   ]
  },
  {
   "cell_type": "code",
   "execution_count": 19,
   "metadata": {},
   "outputs": [
    {
     "data": {
      "text/html": [
       "<div>\n",
       "<style scoped>\n",
       "    .dataframe tbody tr th:only-of-type {\n",
       "        vertical-align: middle;\n",
       "    }\n",
       "\n",
       "    .dataframe tbody tr th {\n",
       "        vertical-align: top;\n",
       "    }\n",
       "\n",
       "    .dataframe thead th {\n",
       "        text-align: right;\n",
       "    }\n",
       "</style>\n",
       "<table border=\"1\" class=\"dataframe\">\n",
       "  <thead>\n",
       "    <tr style=\"text-align: right;\">\n",
       "      <th></th>\n",
       "      <th>Team ID</th>\n",
       "      <th>Registration ID</th>\n",
       "      <th>Event</th>\n",
       "      <th>Team Lead</th>\n",
       "      <th>Email</th>\n",
       "      <th>Phone</th>\n",
       "      <th>College</th>\n",
       "      <th>Department</th>\n",
       "      <th>Year</th>\n",
       "      <th>Team Size</th>\n",
       "      <th>Amount</th>\n",
       "      <th>Status</th>\n",
       "      <th>Registration Date</th>\n",
       "      <th>Team Members</th>\n",
       "      <th>Team Members Emails</th>\n",
       "      <th>Team Members Phones</th>\n",
       "    </tr>\n",
       "  </thead>\n",
       "  <tbody>\n",
       "    <tr>\n",
       "      <th>0</th>\n",
       "      <td>IN25-257</td>\n",
       "      <td>f98601c8-8505-4777-9f2c-07f7ff5767b4</td>\n",
       "      <td>IdeaFusion</td>\n",
       "      <td>Dhakshinesh R</td>\n",
       "      <td>230935.cs@rmkec.ac.in</td>\n",
       "      <td>9884981887</td>\n",
       "      <td>R.M.K Engineering College</td>\n",
       "      <td>Computer Science and Engineering</td>\n",
       "      <td>2</td>\n",
       "      <td>3</td>\n",
       "      <td>500</td>\n",
       "      <td>PENDING</td>\n",
       "      <td>19/03/2025, 09:48 pm</td>\n",
       "      <td>Dharshan M, AKASH S</td>\n",
       "      <td>230168.cs@rmkec.ac.in, 230107.cs@rmkec.ac.in</td>\n",
       "      <td>8807337327, 6380169397</td>\n",
       "    </tr>\n",
       "    <tr>\n",
       "      <th>1</th>\n",
       "      <td>IN25-254</td>\n",
       "      <td>a3dff9eb-3a25-4a46-9eb9-811bb48317f8</td>\n",
       "      <td>IdeaFusion</td>\n",
       "      <td>AJAY KUMAR G R</td>\n",
       "      <td>2301056.cs@rmkec.ac.in</td>\n",
       "      <td>9566231999</td>\n",
       "      <td>R.M.K Engineering College</td>\n",
       "      <td>BE CSE</td>\n",
       "      <td>2</td>\n",
       "      <td>3</td>\n",
       "      <td>500</td>\n",
       "      <td>PENDING</td>\n",
       "      <td>19/03/2025, 08:27 pm</td>\n",
       "      <td>BARATH K, AHAMED FARIDH S</td>\n",
       "      <td>230163.cs@rmkec.ac.in, 230025.cs@rmkec.ac.in</td>\n",
       "      <td>9840460771, 9940371115</td>\n",
       "    </tr>\n",
       "    <tr>\n",
       "      <th>2</th>\n",
       "      <td>IN25-253</td>\n",
       "      <td>c66e5c8f-eb54-4cb9-84d2-dd2196ec49d8</td>\n",
       "      <td>IdeaFusion</td>\n",
       "      <td>Prathika V</td>\n",
       "      <td>221301033@rajalakshmi.edu.in</td>\n",
       "      <td>7092714415</td>\n",
       "      <td>Rajalakshmi Engineering College</td>\n",
       "      <td>B.Tech Food Technology</td>\n",
       "      <td>3</td>\n",
       "      <td>2</td>\n",
       "      <td>500</td>\n",
       "      <td>PENDING</td>\n",
       "      <td>19/03/2025, 07:03 pm</td>\n",
       "      <td>Priyadharsan S</td>\n",
       "      <td>221301035@rajalakshmi.edu.in</td>\n",
       "      <td>9442686080</td>\n",
       "    </tr>\n",
       "    <tr>\n",
       "      <th>3</th>\n",
       "      <td>IN25-252</td>\n",
       "      <td>56bc3d95-2f6f-4493-88a9-6f1be5d03499</td>\n",
       "      <td>IdeaFusion</td>\n",
       "      <td>S yogeswari</td>\n",
       "      <td>221301060@rajalakshmi.edu.in</td>\n",
       "      <td>9342699335</td>\n",
       "      <td>Rajalakshmi Engineering College</td>\n",
       "      <td>Food technology</td>\n",
       "      <td>3</td>\n",
       "      <td>2</td>\n",
       "      <td>500</td>\n",
       "      <td>PENDING</td>\n",
       "      <td>19/03/2025, 06:44 pm</td>\n",
       "      <td>M babisha</td>\n",
       "      <td>221301009@rajalakshmi.edu.in</td>\n",
       "      <td>8248091079</td>\n",
       "    </tr>\n",
       "    <tr>\n",
       "      <th>4</th>\n",
       "      <td>IN25-251</td>\n",
       "      <td>96dd83f0-b476-4eea-aa32-8d643f63de82</td>\n",
       "      <td>IdeaFusion</td>\n",
       "      <td>Pradyumna Sagar T.</td>\n",
       "      <td>221301031@rajalakshmi.edu.in</td>\n",
       "      <td>8122090023</td>\n",
       "      <td>Rajalakshmi Engineering College</td>\n",
       "      <td>Food Technology</td>\n",
       "      <td>3</td>\n",
       "      <td>2</td>\n",
       "      <td>500</td>\n",
       "      <td>PENDING</td>\n",
       "      <td>19/03/2025, 06:34 pm</td>\n",
       "      <td>Balaji A</td>\n",
       "      <td>221301010@rajalakshmi.edu.in</td>\n",
       "      <td>9655055885</td>\n",
       "    </tr>\n",
       "  </tbody>\n",
       "</table>\n",
       "</div>"
      ],
      "text/plain": [
       "    Team ID                       Registration ID       Event  \\\n",
       "0  IN25-257  f98601c8-8505-4777-9f2c-07f7ff5767b4  IdeaFusion   \n",
       "1  IN25-254  a3dff9eb-3a25-4a46-9eb9-811bb48317f8  IdeaFusion   \n",
       "2  IN25-253  c66e5c8f-eb54-4cb9-84d2-dd2196ec49d8  IdeaFusion   \n",
       "3  IN25-252  56bc3d95-2f6f-4493-88a9-6f1be5d03499  IdeaFusion   \n",
       "4  IN25-251  96dd83f0-b476-4eea-aa32-8d643f63de82  IdeaFusion   \n",
       "\n",
       "              Team Lead                         Email       Phone  \\\n",
       "0         Dhakshinesh R         230935.cs@rmkec.ac.in  9884981887   \n",
       "1        AJAY KUMAR G R        2301056.cs@rmkec.ac.in  9566231999   \n",
       "2            Prathika V  221301033@rajalakshmi.edu.in  7092714415   \n",
       "3          S yogeswari   221301060@rajalakshmi.edu.in  9342699335   \n",
       "4  Pradyumna Sagar T.    221301031@rajalakshmi.edu.in  8122090023   \n",
       "\n",
       "                           College                        Department  Year  \\\n",
       "0       R.M.K Engineering College   Computer Science and Engineering     2   \n",
       "1       R.M.K Engineering College                             BE CSE     2   \n",
       "2  Rajalakshmi Engineering College           B.Tech Food Technology      3   \n",
       "3  Rajalakshmi Engineering College                  Food technology      3   \n",
       "4  Rajalakshmi Engineering College                  Food Technology      3   \n",
       "\n",
       "   Team Size  Amount   Status     Registration Date  \\\n",
       "0          3     500  PENDING  19/03/2025, 09:48 pm   \n",
       "1          3     500  PENDING  19/03/2025, 08:27 pm   \n",
       "2          2     500  PENDING  19/03/2025, 07:03 pm   \n",
       "3          2     500  PENDING  19/03/2025, 06:44 pm   \n",
       "4          2     500  PENDING  19/03/2025, 06:34 pm   \n",
       "\n",
       "                Team Members                           Team Members Emails  \\\n",
       "0        Dharshan M, AKASH S  230168.cs@rmkec.ac.in, 230107.cs@rmkec.ac.in   \n",
       "1  BARATH K, AHAMED FARIDH S  230163.cs@rmkec.ac.in, 230025.cs@rmkec.ac.in   \n",
       "2            Priyadharsan S                   221301035@rajalakshmi.edu.in   \n",
       "3                 M babisha                   221301009@rajalakshmi.edu.in   \n",
       "4                   Balaji A                  221301010@rajalakshmi.edu.in   \n",
       "\n",
       "      Team Members Phones  \n",
       "0  8807337327, 6380169397  \n",
       "1  9840460771, 9940371115  \n",
       "2              9442686080  \n",
       "3              8248091079  \n",
       "4              9655055885  "
      ]
     },
     "execution_count": 19,
     "metadata": {},
     "output_type": "execute_result"
    }
   ],
   "source": [
    "df.head()"
   ]
  },
  {
   "cell_type": "code",
   "execution_count": 14,
   "metadata": {},
   "outputs": [],
   "source": [
    "df[\"Team Members\"] = df[\"Team Members\"].fillna(\"\")\n",
    "df[\"Team Members Combined\"] = df[\"Team Lead\"] + (\", \" + df[\"Team Members\"]).str.strip(\", \")\n",
    "new_df = df[[\"Team ID\", \"College\",\"Team Members Combined\",\"Year\"]]"
   ]
  },
  {
   "cell_type": "code",
   "execution_count": 26,
   "metadata": {},
   "outputs": [
    {
     "data": {
      "text/plain": [
       "Index(['Team ID', 'Registration ID', 'Event', 'Team Lead', 'Email', 'Phone',\n",
       "       'College', 'Department', 'Year', 'Team Size', 'Amount', 'Status',\n",
       "       'Registration Date', 'Team Members', 'Team Members Emails',\n",
       "       'Team Members Phones', 'Team Members Combined'],\n",
       "      dtype='object')"
      ]
     },
     "execution_count": 26,
     "metadata": {},
     "output_type": "execute_result"
    }
   ],
   "source": [
    "df.columns\n"
   ]
  },
  {
   "cell_type": "code",
   "execution_count": null,
   "metadata": {},
   "outputs": [],
   "source": []
  },
  {
   "cell_type": "code",
   "execution_count": 24,
   "metadata": {},
   "outputs": [],
   "source": [
    "a=new_df = df[[\"Team ID\",\"Team Members Combined\",\"Phone\",\"Team Members Phones\"]]\n",
    "a.to_excel(\"PhNoList.xlsx\",index=True)"
   ]
  },
  {
   "cell_type": "code",
   "execution_count": 22,
   "metadata": {},
   "outputs": [
    {
     "data": {
      "text/html": [
       "<div>\n",
       "<style scoped>\n",
       "    .dataframe tbody tr th:only-of-type {\n",
       "        vertical-align: middle;\n",
       "    }\n",
       "\n",
       "    .dataframe tbody tr th {\n",
       "        vertical-align: top;\n",
       "    }\n",
       "\n",
       "    .dataframe thead th {\n",
       "        text-align: right;\n",
       "    }\n",
       "</style>\n",
       "<table border=\"1\" class=\"dataframe\">\n",
       "  <thead>\n",
       "    <tr style=\"text-align: right;\">\n",
       "      <th></th>\n",
       "      <th>Team ID</th>\n",
       "      <th>Team Members Combined</th>\n",
       "      <th>Phone</th>\n",
       "      <th>Team Members Phones</th>\n",
       "    </tr>\n",
       "  </thead>\n",
       "  <tbody>\n",
       "    <tr>\n",
       "      <th>0</th>\n",
       "      <td>IN25-257</td>\n",
       "      <td>Dhakshinesh RDharshan M, AKASH S</td>\n",
       "      <td>9884981887</td>\n",
       "      <td>8807337327, 6380169397</td>\n",
       "    </tr>\n",
       "    <tr>\n",
       "      <th>1</th>\n",
       "      <td>IN25-254</td>\n",
       "      <td>AJAY KUMAR G RBARATH K, AHAMED FARIDH S</td>\n",
       "      <td>9566231999</td>\n",
       "      <td>9840460771, 9940371115</td>\n",
       "    </tr>\n",
       "    <tr>\n",
       "      <th>2</th>\n",
       "      <td>IN25-253</td>\n",
       "      <td>Prathika VPriyadharsan S</td>\n",
       "      <td>7092714415</td>\n",
       "      <td>9442686080</td>\n",
       "    </tr>\n",
       "    <tr>\n",
       "      <th>3</th>\n",
       "      <td>IN25-252</td>\n",
       "      <td>S yogeswari M babisha</td>\n",
       "      <td>9342699335</td>\n",
       "      <td>8248091079</td>\n",
       "    </tr>\n",
       "    <tr>\n",
       "      <th>4</th>\n",
       "      <td>IN25-251</td>\n",
       "      <td>Pradyumna Sagar T.  Balaji A</td>\n",
       "      <td>8122090023</td>\n",
       "      <td>9655055885</td>\n",
       "    </tr>\n",
       "    <tr>\n",
       "      <th>...</th>\n",
       "      <td>...</td>\n",
       "      <td>...</td>\n",
       "      <td>...</td>\n",
       "      <td>...</td>\n",
       "    </tr>\n",
       "    <tr>\n",
       "      <th>56</th>\n",
       "      <td>IN25-015</td>\n",
       "      <td>SWETHA PSARUMATHI E, VIDHYA S</td>\n",
       "      <td>7418001137</td>\n",
       "      <td>9342332359, 8667761038</td>\n",
       "    </tr>\n",
       "    <tr>\n",
       "      <th>57</th>\n",
       "      <td>IN25-013</td>\n",
       "      <td>Gandla JyosthnaArun Kumar , Sudharsan Sathyapr...</td>\n",
       "      <td>9391475927</td>\n",
       "      <td>9043909438, 7418908570</td>\n",
       "    </tr>\n",
       "    <tr>\n",
       "      <th>58</th>\n",
       "      <td>IN25-012</td>\n",
       "      <td>Srirama Priyan KRanjani S, Linkesh Kumar E</td>\n",
       "      <td>8946042981</td>\n",
       "      <td>9940342061, 9342447645</td>\n",
       "    </tr>\n",
       "    <tr>\n",
       "      <th>59</th>\n",
       "      <td>IN25-007</td>\n",
       "      <td>Japhlet Sandra JRaja Meenakshi G, Roseanne Anu</td>\n",
       "      <td>9962556041</td>\n",
       "      <td>8925390112, 8248173653</td>\n",
       "    </tr>\n",
       "    <tr>\n",
       "      <th>60</th>\n",
       "      <td>IN25-003</td>\n",
       "      <td>Avinash LingamSuresh Thevar, Bharath Raj T</td>\n",
       "      <td>8122382750</td>\n",
       "      <td>8850468834, 9841802412</td>\n",
       "    </tr>\n",
       "  </tbody>\n",
       "</table>\n",
       "<p>61 rows × 4 columns</p>\n",
       "</div>"
      ],
      "text/plain": [
       "     Team ID                              Team Members Combined       Phone  \\\n",
       "0   IN25-257                   Dhakshinesh RDharshan M, AKASH S  9884981887   \n",
       "1   IN25-254            AJAY KUMAR G RBARATH K, AHAMED FARIDH S  9566231999   \n",
       "2   IN25-253                           Prathika VPriyadharsan S  7092714415   \n",
       "3   IN25-252                              S yogeswari M babisha  9342699335   \n",
       "4   IN25-251                       Pradyumna Sagar T.  Balaji A  8122090023   \n",
       "..       ...                                                ...         ...   \n",
       "56  IN25-015                      SWETHA PSARUMATHI E, VIDHYA S  7418001137   \n",
       "57  IN25-013  Gandla JyosthnaArun Kumar , Sudharsan Sathyapr...  9391475927   \n",
       "58  IN25-012         Srirama Priyan KRanjani S, Linkesh Kumar E  8946042981   \n",
       "59  IN25-007     Japhlet Sandra JRaja Meenakshi G, Roseanne Anu  9962556041   \n",
       "60  IN25-003         Avinash LingamSuresh Thevar, Bharath Raj T  8122382750   \n",
       "\n",
       "       Team Members Phones  \n",
       "0   8807337327, 6380169397  \n",
       "1   9840460771, 9940371115  \n",
       "2               9442686080  \n",
       "3               8248091079  \n",
       "4               9655055885  \n",
       "..                     ...  \n",
       "56  9342332359, 8667761038  \n",
       "57  9043909438, 7418908570  \n",
       "58  9940342061, 9342447645  \n",
       "59  8925390112, 8248173653  \n",
       "60  8850468834, 9841802412  \n",
       "\n",
       "[61 rows x 4 columns]"
      ]
     },
     "execution_count": 22,
     "metadata": {},
     "output_type": "execute_result"
    }
   ],
   "source": [
    "new_df"
   ]
  },
  {
   "cell_type": "code",
   "execution_count": 36,
   "metadata": {},
   "outputs": [],
   "source": [
    "filtered_df = df[~df[\"College\"].str.contains(\"Hindustan\", case=False, na=False)].copy()\n",
    "\n",
    "# Reset index to maintain order\n",
    "filtered_df.reset_index(drop=True, inplace=True)\n",
    "\n",
    "# Ensure all columns stay in place\n",
    "a=filtered_df[[\"College\", \"Team ID\", \"Phone\"]]\n",
    "a.to_excel(\"ExternalListIF.xlsx\",index=False)\n"
   ]
  },
  {
   "cell_type": "code",
   "execution_count": 31,
   "metadata": {},
   "outputs": [
    {
     "data": {
      "text/plain": [
       "College\n",
       "Hindustan University/HITS                         26\n",
       "Manakula Vinayagar Institute of Technology         6\n",
       "R.M.K Engineering College                          5\n",
       "Rajalakshmi Engineering College                    5\n",
       "IFET COLLEGE OF ENGINEERING                        5\n",
       "SRMIST-SRM Institute of Science and Technology     4\n",
       "V.S.B.ENGINEERING COLLEGE,KARUR                    4\n",
       "St. Joseph's institute of technology               2\n",
       "SRI KRISHNA COLLEGE OF TECHNOLOGY                  2\n",
       "Erode Sengunthar Engineering College, Erode        1\n",
       "Sri Sivasubramaniya Nadar                          1\n",
       "Name: count, dtype: int64"
      ]
     },
     "execution_count": 31,
     "metadata": {},
     "output_type": "execute_result"
    }
   ],
   "source": [
    "new_df.College.value_counts()"
   ]
  },
  {
   "cell_type": "code",
   "execution_count": 22,
   "metadata": {},
   "outputs": [
    {
     "data": {
      "text/html": [
       "<div>\n",
       "<style scoped>\n",
       "    .dataframe tbody tr th:only-of-type {\n",
       "        vertical-align: middle;\n",
       "    }\n",
       "\n",
       "    .dataframe tbody tr th {\n",
       "        vertical-align: top;\n",
       "    }\n",
       "\n",
       "    .dataframe thead th {\n",
       "        text-align: right;\n",
       "    }\n",
       "</style>\n",
       "<table border=\"1\" class=\"dataframe\">\n",
       "  <thead>\n",
       "    <tr style=\"text-align: right;\">\n",
       "      <th></th>\n",
       "      <th>Team ID</th>\n",
       "      <th>College</th>\n",
       "      <th>Team Members Combined</th>\n",
       "      <th>Year</th>\n",
       "    </tr>\n",
       "  </thead>\n",
       "  <tbody>\n",
       "    <tr>\n",
       "      <th>0</th>\n",
       "      <td>IN25-095</td>\n",
       "      <td>SRI KRISHNA COLLEGE OF TECHNOLOGY</td>\n",
       "      <td>SHYAM PRASATH SNAVIKA G, NEERAJA G</td>\n",
       "      <td>1</td>\n",
       "    </tr>\n",
       "    <tr>\n",
       "      <th>1</th>\n",
       "      <td>IN25-096</td>\n",
       "      <td>V.S.B.ENGINEERING COLLEGE,KARUR</td>\n",
       "      <td>SIVARANJAN G PRASANNA C, AAKASH M</td>\n",
       "      <td>1</td>\n",
       "    </tr>\n",
       "    <tr>\n",
       "      <th>2</th>\n",
       "      <td>IN25-220</td>\n",
       "      <td>IFET COLLEGE OF ENGINEERING</td>\n",
       "      <td>Dharsha.SGayathridevi.K, Bhavana.V</td>\n",
       "      <td>1</td>\n",
       "    </tr>\n",
       "    <tr>\n",
       "      <th>3</th>\n",
       "      <td>IN25-098</td>\n",
       "      <td>SRI KRISHNA COLLEGE OF TECHNOLOGY</td>\n",
       "      <td>ASWANTH RAM KSABARISH VS, TARUN R</td>\n",
       "      <td>1</td>\n",
       "    </tr>\n",
       "    <tr>\n",
       "      <th>4</th>\n",
       "      <td>IN25-128</td>\n",
       "      <td>Hindustan University/HITS</td>\n",
       "      <td>Dhyan PrakashArya Pillai</td>\n",
       "      <td>1</td>\n",
       "    </tr>\n",
       "    <tr>\n",
       "      <th>...</th>\n",
       "      <td>...</td>\n",
       "      <td>...</td>\n",
       "      <td>...</td>\n",
       "      <td>...</td>\n",
       "    </tr>\n",
       "    <tr>\n",
       "      <th>56</th>\n",
       "      <td>IN25-192</td>\n",
       "      <td>Hindustan University/HITS</td>\n",
       "      <td>Deepica MManjesh S, Pradesh kumar</td>\n",
       "      <td>3</td>\n",
       "    </tr>\n",
       "    <tr>\n",
       "      <th>57</th>\n",
       "      <td>IN25-205</td>\n",
       "      <td>Erode Sengunthar Engineering College, Erode</td>\n",
       "      <td>Sivaranjini NHarish P, Santhiya M</td>\n",
       "      <td>3</td>\n",
       "    </tr>\n",
       "    <tr>\n",
       "      <th>58</th>\n",
       "      <td>IN25-120</td>\n",
       "      <td>Hindustan University/HITS</td>\n",
       "      <td>Pranesh CAlen Maria Nirmal P R , Radhika K</td>\n",
       "      <td>3</td>\n",
       "    </tr>\n",
       "    <tr>\n",
       "      <th>59</th>\n",
       "      <td>IN25-168</td>\n",
       "      <td>Hindustan University/HITS</td>\n",
       "      <td>Joseph Ebinesar Siva shankar</td>\n",
       "      <td>3</td>\n",
       "    </tr>\n",
       "    <tr>\n",
       "      <th>60</th>\n",
       "      <td>IN25-175</td>\n",
       "      <td>Hindustan University/HITS</td>\n",
       "      <td>Madhava Reddy Deepthi Reddy</td>\n",
       "      <td>3</td>\n",
       "    </tr>\n",
       "  </tbody>\n",
       "</table>\n",
       "<p>61 rows × 4 columns</p>\n",
       "</div>"
      ],
      "text/plain": [
       "     Team ID                                       College  \\\n",
       "0   IN25-095             SRI KRISHNA COLLEGE OF TECHNOLOGY   \n",
       "1   IN25-096               V.S.B.ENGINEERING COLLEGE,KARUR   \n",
       "2   IN25-220                   IFET COLLEGE OF ENGINEERING   \n",
       "3   IN25-098             SRI KRISHNA COLLEGE OF TECHNOLOGY   \n",
       "4   IN25-128                     Hindustan University/HITS   \n",
       "..       ...                                           ...   \n",
       "56  IN25-192                     Hindustan University/HITS   \n",
       "57  IN25-205  Erode Sengunthar Engineering College, Erode    \n",
       "58  IN25-120                     Hindustan University/HITS   \n",
       "59  IN25-168                     Hindustan University/HITS   \n",
       "60  IN25-175                     Hindustan University/HITS   \n",
       "\n",
       "                         Team Members Combined  Year  \n",
       "0           SHYAM PRASATH SNAVIKA G, NEERAJA G     1  \n",
       "1            SIVARANJAN G PRASANNA C, AAKASH M     1  \n",
       "2           Dharsha.SGayathridevi.K, Bhavana.V     1  \n",
       "3            ASWANTH RAM KSABARISH VS, TARUN R     1  \n",
       "4                     Dhyan PrakashArya Pillai     1  \n",
       "..                                         ...   ...  \n",
       "56           Deepica MManjesh S, Pradesh kumar     3  \n",
       "57           Sivaranjini NHarish P, Santhiya M     3  \n",
       "58  Pranesh CAlen Maria Nirmal P R , Radhika K     3  \n",
       "59                Joseph Ebinesar Siva shankar     3  \n",
       "60                 Madhava Reddy Deepthi Reddy     3  \n",
       "\n",
       "[61 rows x 4 columns]"
      ]
     },
     "execution_count": 22,
     "metadata": {},
     "output_type": "execute_result"
    }
   ],
   "source": [
    "\n",
    "new_df = new_df.sort_values(by=\"Year\", ascending=True)\n",
    "new_df = new_df.reset_index(drop=True)\n",
    "new_df\n"
   ]
  },
  {
   "cell_type": "code",
   "execution_count": 23,
   "metadata": {},
   "outputs": [],
   "source": [
    "new_df.to_excel(\"IdeaFusionTeamList.xlsx\", index=False)"
   ]
  }
 ],
 "metadata": {
  "kernelspec": {
   "display_name": "Python 3",
   "language": "python",
   "name": "python3"
  },
  "language_info": {
   "codemirror_mode": {
    "name": "ipython",
    "version": 3
   },
   "file_extension": ".py",
   "mimetype": "text/x-python",
   "name": "python",
   "nbconvert_exporter": "python",
   "pygments_lexer": "ipython3",
   "version": "3.12.9"
  }
 },
 "nbformat": 4,
 "nbformat_minor": 2
}
